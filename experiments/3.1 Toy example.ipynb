{
 "cells": [
  {
   "cell_type": "code",
   "execution_count": 1,
   "metadata": {},
   "outputs": [],
   "source": [
    "import torch\n",
    "import numpy as np\n",
    "import matplotlib.pyplot as plt\n",
    "import torch.nn as nn\n",
    "import torch.nn.functional as F\n",
    "import torch.optim as optim\n",
    "from torch.utils.data import DataLoader\n",
    "\n",
    "from activations import Cosine\n",
    "from networks import WHVIRegression\n",
    "from layers import WHVILinear\n",
    "from torch_datasets import ToyDataset"
   ]
  },
  {
   "cell_type": "code",
   "execution_count": 2,
   "metadata": {},
   "outputs": [],
   "source": [
    "torch.manual_seed(0)  # Seed for reproducibility\n",
    "\n",
    "# Data\n",
    "dataset = ToyDataset(n=128)\n",
    "data_loader = DataLoader(dataset, batch_size=64)"
   ]
  },
  {
   "cell_type": "code",
   "execution_count": 3,
   "metadata": {},
   "outputs": [],
   "source": [
    "net = WHVIRegression([\n",
    "    nn.Linear(1, 128),\n",
    "    Cosine(),\n",
    "    WHVILinear(128, lambda_=1e-5),\n",
    "    Cosine(),\n",
    "    WHVILinear(128, lambda_=1e-5),\n",
    "    Cosine(),\n",
    "    nn.Linear(128, 1)\n",
    "])\n",
    "\n",
    "gamma=0.0005\n",
    "p = 0.3\n",
    "optimizer = optim.Adam(net.parameters(), lr=1e-3)\n",
    "lr_scheduler = optim.lr_scheduler.LambdaLR(optimizer, lambda t: (1 + gamma * t)**(-p))"
   ]
  },
  {
   "cell_type": "code",
   "execution_count": null,
   "metadata": {
    "scrolled": false
   },
   "outputs": [
    {
     "name": "stderr",
     "output_type": "stream",
     "text": [
      "[Fix. var.] KL = 546.94, MNLL = 33.15:  48%|████▊     | 238/500 [00:07<00:08, 32.38it/s]     "
     ]
    }
   ],
   "source": [
    "net.train_model(data_loader, optimizer, epochs1=500, epochs2=50000)"
   ]
  },
  {
   "cell_type": "code",
   "execution_count": null,
   "metadata": {},
   "outputs": [],
   "source": [
    "net.eval()\n",
    "net.eval_samples = 500\n",
    "x_test = torch.reshape(torch.linspace(-2, 3, 1000), (-1, 1))\n",
    "y_test = dataset.f(x_test)\n",
    "y_pred = net(x_test)"
   ]
  },
  {
   "cell_type": "code",
   "execution_count": null,
   "metadata": {
    "scrolled": true
   },
   "outputs": [],
   "source": [
    "plt.figure()\n",
    "plt.ylim(-1, 2.5)\n",
    "plt.xlim(-2, 3)\n",
    "for i in range(y_pred.size()[2]):\n",
    "    plt.plot(x_test, y_pred[..., i].detach(), c='r', alpha=0.05)\n",
    "plt.scatter(dataset.x, dataset.y, ec='k', label='Noisy training measurements')\n",
    "plt.plot(x_test, y_test, label='True function')\n",
    "plt.legend()\n",
    "plt.show()"
   ]
  }
 ],
 "metadata": {
  "kernelspec": {
   "display_name": "Python 3",
   "language": "python",
   "name": "python3"
  },
  "language_info": {
   "codemirror_mode": {
    "name": "ipython",
    "version": 3
   },
   "file_extension": ".py",
   "mimetype": "text/x-python",
   "name": "python",
   "nbconvert_exporter": "python",
   "pygments_lexer": "ipython3",
   "version": "3.8.5"
  }
 },
 "nbformat": 4,
 "nbformat_minor": 1
}
